{
  "nbformat": 4,
  "nbformat_minor": 0,
  "metadata": {
    "colab": {
      "name": "lab1.ipynb",
      "provenance": [],
      "collapsed_sections": [],
      "toc_visible": true,
      "include_colab_link": true
    },
    "kernelspec": {
      "display_name": "Python 3",
      "name": "python3"
    }
  },
  "cells": [
    {
      "cell_type": "markdown",
      "metadata": {
        "id": "view-in-github",
        "colab_type": "text"
      },
      "source": [
        "<a href=\"https://colab.research.google.com/github/danamyergaliyeva/NLP/blob/master/lab1.ipynb\" target=\"_parent\"><img src=\"https://colab.research.google.com/assets/colab-badge.svg\" alt=\"Open In Colab\"/></a>"
      ]
    },
    {
      "cell_type": "code",
      "metadata": {
        "id": "8hS5PvJJ7GhB",
        "colab_type": "code",
        "colab": {}
      },
      "source": [
        "import re, string \n",
        "import pandas as pd \n",
        "from time import time  \n",
        "from collections import defaultdict\n",
        "from matplotlib import pyplot as plt\n",
        "from gensim.models import Word2Vec\n",
        "from sklearn.manifold import TSNE\n",
        "import spacy\n",
        "import nltk\n",
        "from nltk.corpus import stopwords\n",
        "STOPWORDS = set(stopwords.words('english'))\n",
        "%matplotlib inline"
      ],
      "execution_count": 0,
      "outputs": []
    },
    {
      "cell_type": "code",
      "metadata": {
        "id": "-uwNhfq19AZn",
        "colab_type": "code",
        "colab": {}
      },
      "source": [
        "df = pd.read_csv('BBC news dataset.csv')\n",
        "df = df.drop(columns=\"tags\")\n",
        "df = df.drop(columns=\"Unnamed: 0\")"
      ],
      "execution_count": 0,
      "outputs": []
    },
    {
      "cell_type": "code",
      "metadata": {
        "id": "qeL8yM5-9EzT",
        "colab_type": "code",
        "outputId": "dc5c032f-f9a1-4134-9172-752f18bc5aa2",
        "colab": {
          "base_uri": "https://localhost:8080/",
          "height": 204
        }
      },
      "source": [
        "df.head()"
      ],
      "execution_count": 0,
      "outputs": [
        {
          "output_type": "execute_result",
          "data": {
            "text/html": [
              "<div>\n",
              "<style scoped>\n",
              "    .dataframe tbody tr th:only-of-type {\n",
              "        vertical-align: middle;\n",
              "    }\n",
              "\n",
              "    .dataframe tbody tr th {\n",
              "        vertical-align: top;\n",
              "    }\n",
              "\n",
              "    .dataframe thead th {\n",
              "        text-align: right;\n",
              "    }\n",
              "</style>\n",
              "<table border=\"1\" class=\"dataframe\">\n",
              "  <thead>\n",
              "    <tr style=\"text-align: right;\">\n",
              "      <th></th>\n",
              "      <th>description</th>\n",
              "    </tr>\n",
              "  </thead>\n",
              "  <tbody>\n",
              "    <tr>\n",
              "      <th>0</th>\n",
              "      <td>chelsea sack mutu  chelsea have sacked adrian ...</td>\n",
              "    </tr>\n",
              "    <tr>\n",
              "      <th>1</th>\n",
              "      <td>record fails to lift lacklustre meet  yelena i...</td>\n",
              "    </tr>\n",
              "    <tr>\n",
              "      <th>2</th>\n",
              "      <td>edu describes tunnel fracas  arsenals edu has ...</td>\n",
              "    </tr>\n",
              "    <tr>\n",
              "      <th>3</th>\n",
              "      <td>ogara revels in ireland victory  ireland flyha...</td>\n",
              "    </tr>\n",
              "    <tr>\n",
              "      <th>4</th>\n",
              "      <td>unclear future for striker baros  liverpool fo...</td>\n",
              "    </tr>\n",
              "  </tbody>\n",
              "</table>\n",
              "</div>"
            ],
            "text/plain": [
              "                                         description\n",
              "0  chelsea sack mutu  chelsea have sacked adrian ...\n",
              "1  record fails to lift lacklustre meet  yelena i...\n",
              "2  edu describes tunnel fracas  arsenals edu has ...\n",
              "3  ogara revels in ireland victory  ireland flyha...\n",
              "4  unclear future for striker baros  liverpool fo..."
            ]
          },
          "metadata": {
            "tags": []
          },
          "execution_count": 14
        }
      ]
    },
    {
      "cell_type": "code",
      "metadata": {
        "id": "l768Rh-p9H8D",
        "colab_type": "code",
        "outputId": "8d606843-19e5-4107-acb5-d04e34eceff1",
        "colab": {
          "base_uri": "https://localhost:8080/",
          "height": 54
        }
      },
      "source": [
        "print(STOPWORDS)"
      ],
      "execution_count": 0,
      "outputs": [
        {
          "output_type": "stream",
          "text": [
            "{'you', 'between', 'don', 'an', \"didn't\", 'yours', \"shan't\", \"won't\", 'have', 'why', 'or', 'yourself', 'be', \"isn't\", 'nor', 'a', 'ourselves', 'out', \"wasn't\", 'than', 'as', 'couldn', 'for', 'aren', 'will', 'in', 'hasn', 'up', 'such', 'weren', 'did', 'she', 'because', 'into', 'further', \"haven't\", 'until', \"weren't\", 'i', \"it's\", \"doesn't\", 'so', 'of', 'having', 'he', 'once', 'has', 'about', 'during', 'very', 'didn', 'if', 'too', 'll', 'own', 'should', 'the', 'not', 'on', 'me', 'over', 'mightn', 'myself', 'it', 'o', 'y', 'we', \"aren't\", 's', 'few', 'there', 'only', \"you're\", 'doing', \"you'll\", 'same', 'were', 'all', 't', \"that'll\", \"you'd\", 'does', 'more', 'doesn', 'their', \"needn't\", 'his', 'ma', 'themselves', 'through', 'hers', 'wouldn', 'and', 'down', 'herself', 'here', 'below', 'them', 'but', 'had', 'wasn', 'haven', 'm', 'mustn', \"hasn't\", 've', \"mustn't\", 'other', 'any', 'our', \"couldn't\", \"wouldn't\", 'him', 'ours', 'again', 'this', 'some', \"don't\", \"she's\", 'was', 'itself', 'after', 'no', 'd', 'being', 'to', 'by', 'now', 'from', 'won', 'himself', 'both', 'shan', 'above', 'am', 'are', 'yourselves', 'your', \"shouldn't\", 'just', 'needn', 'each', 'hadn', 'those', 'whom', 'at', 'what', 'off', 'when', 'under', 'they', 'which', 'ain', 'that', 'how', 'shouldn', 'is', \"hadn't\", 'against', 'her', 'who', 'its', 'do', 'with', 're', 'my', 'these', 'can', 'theirs', 'then', 'where', 'been', 'before', \"should've\", 'while', \"mightn't\", 'most', \"you've\", 'isn'}\n"
          ],
          "name": "stdout"
        }
      ]
    },
    {
      "cell_type": "code",
      "metadata": {
        "id": "y9Eoq9PB-Qee",
        "colab_type": "code",
        "colab": {}
      },
      "source": [
        "def clean_data(text):\n",
        "    text = text.lower()\n",
        "    text = re.sub(r'\\[.*?\\]', '', text)\n",
        "    text = re.sub(r'[%s]' % re.escape(string.punctuation), '', text)\n",
        "    text = re.sub(r'\\w*\\d\\w*', '', text)\n",
        "    # Remove a sentence if it is only one word long\n",
        "    if len(text) > 2:\n",
        "        return ' '.join(word for word in text.split() if word not in STOPWORDS)\n",
        "\n",
        "df_clean = pd.DataFrame(df.description.apply(lambda x: clean_data(x)))"
      ],
      "execution_count": 0,
      "outputs": []
    },
    {
      "cell_type": "code",
      "metadata": {
        "id": "-iVwLi-x-UFU",
        "colab_type": "code",
        "outputId": "1495c2d0-0ad0-4162-ce8d-de61f42bf33e",
        "colab": {
          "base_uri": "https://localhost:8080/",
          "height": 204
        }
      },
      "source": [
        "df_clean.head()"
      ],
      "execution_count": 0,
      "outputs": [
        {
          "output_type": "execute_result",
          "data": {
            "text/html": [
              "<div>\n",
              "<style scoped>\n",
              "    .dataframe tbody tr th:only-of-type {\n",
              "        vertical-align: middle;\n",
              "    }\n",
              "\n",
              "    .dataframe tbody tr th {\n",
              "        vertical-align: top;\n",
              "    }\n",
              "\n",
              "    .dataframe thead th {\n",
              "        text-align: right;\n",
              "    }\n",
              "</style>\n",
              "<table border=\"1\" class=\"dataframe\">\n",
              "  <thead>\n",
              "    <tr style=\"text-align: right;\">\n",
              "      <th></th>\n",
              "      <th>description</th>\n",
              "    </tr>\n",
              "  </thead>\n",
              "  <tbody>\n",
              "    <tr>\n",
              "      <th>0</th>\n",
              "      <td>chelsea sack mutu chelsea sacked adrian mutu f...</td>\n",
              "    </tr>\n",
              "    <tr>\n",
              "      <th>1</th>\n",
              "      <td>record fails lift lacklustre meet yelena isinb...</td>\n",
              "    </tr>\n",
              "    <tr>\n",
              "      <th>2</th>\n",
              "      <td>edu describes tunnel fracas arsenals edu lifte...</td>\n",
              "    </tr>\n",
              "    <tr>\n",
              "      <th>3</th>\n",
              "      <td>ogara revels ireland victory ireland flyhalf r...</td>\n",
              "    </tr>\n",
              "    <tr>\n",
              "      <th>4</th>\n",
              "      <td>unclear future striker baros liverpool forward...</td>\n",
              "    </tr>\n",
              "  </tbody>\n",
              "</table>\n",
              "</div>"
            ],
            "text/plain": [
              "                                         description\n",
              "0  chelsea sack mutu chelsea sacked adrian mutu f...\n",
              "1  record fails lift lacklustre meet yelena isinb...\n",
              "2  edu describes tunnel fracas arsenals edu lifte...\n",
              "3  ogara revels ireland victory ireland flyhalf r...\n",
              "4  unclear future striker baros liverpool forward..."
            ]
          },
          "metadata": {
            "tags": []
          },
          "execution_count": 21
        }
      ]
    },
    {
      "cell_type": "code",
      "metadata": {
        "id": "XiqNFGUd-VWE",
        "colab_type": "code",
        "colab": {}
      },
      "source": [
        "nlp = spacy.load('en_core_web_sm', disable=['ner', 'parser'])\n",
        "\n",
        "def lemmatizer(text):        \n",
        "    sent = []\n",
        "    doc = nlp(text)\n",
        "    for word in doc:\n",
        "        sent.append(word.lemma_)\n",
        "    return \" \".join(sent)\n",
        "\n",
        "df_clean[\"text_lemmatize\"] =  df_clean.apply(lambda x: lemmatizer(x['description']), axis=1)"
      ],
      "execution_count": 0,
      "outputs": []
    },
    {
      "cell_type": "code",
      "metadata": {
        "id": "5Wf9QQbG-fAs",
        "colab_type": "code",
        "outputId": "8b181048-4eac-4aa9-cb84-6ff7cdb01046",
        "colab": {
          "base_uri": "https://localhost:8080/",
          "height": 204
        }
      },
      "source": [
        "df_clean.head()"
      ],
      "execution_count": 0,
      "outputs": [
        {
          "output_type": "execute_result",
          "data": {
            "text/html": [
              "<div>\n",
              "<style scoped>\n",
              "    .dataframe tbody tr th:only-of-type {\n",
              "        vertical-align: middle;\n",
              "    }\n",
              "\n",
              "    .dataframe tbody tr th {\n",
              "        vertical-align: top;\n",
              "    }\n",
              "\n",
              "    .dataframe thead th {\n",
              "        text-align: right;\n",
              "    }\n",
              "</style>\n",
              "<table border=\"1\" class=\"dataframe\">\n",
              "  <thead>\n",
              "    <tr style=\"text-align: right;\">\n",
              "      <th></th>\n",
              "      <th>description</th>\n",
              "      <th>text_lemmatize</th>\n",
              "    </tr>\n",
              "  </thead>\n",
              "  <tbody>\n",
              "    <tr>\n",
              "      <th>0</th>\n",
              "      <td>chelsea sack mutu chelsea sacked adrian mutu f...</td>\n",
              "      <td>chelsea sack mutu chelsea sack adrian mutu fai...</td>\n",
              "    </tr>\n",
              "    <tr>\n",
              "      <th>1</th>\n",
              "      <td>record fails lift lacklustre meet yelena isinb...</td>\n",
              "      <td>record fail lift lacklustre meet yelena isinba...</td>\n",
              "    </tr>\n",
              "    <tr>\n",
              "      <th>2</th>\n",
              "      <td>edu describes tunnel fracas arsenals edu lifte...</td>\n",
              "      <td>edu describe tunnel fracas arsenal edu lift li...</td>\n",
              "    </tr>\n",
              "    <tr>\n",
              "      <th>3</th>\n",
              "      <td>ogara revels ireland victory ireland flyhalf r...</td>\n",
              "      <td>ogara revel ireland victory ireland flyhalf ro...</td>\n",
              "    </tr>\n",
              "    <tr>\n",
              "      <th>4</th>\n",
              "      <td>unclear future striker baros liverpool forward...</td>\n",
              "      <td>unclear future striker baros liverpool forward...</td>\n",
              "    </tr>\n",
              "  </tbody>\n",
              "</table>\n",
              "</div>"
            ],
            "text/plain": [
              "                                         description                                     text_lemmatize\n",
              "0  chelsea sack mutu chelsea sacked adrian mutu f...  chelsea sack mutu chelsea sack adrian mutu fai...\n",
              "1  record fails lift lacklustre meet yelena isinb...  record fail lift lacklustre meet yelena isinba...\n",
              "2  edu describes tunnel fracas arsenals edu lifte...  edu describe tunnel fracas arsenal edu lift li...\n",
              "3  ogara revels ireland victory ireland flyhalf r...  ogara revel ireland victory ireland flyhalf ro...\n",
              "4  unclear future striker baros liverpool forward...  unclear future striker baros liverpool forward..."
            ]
          },
          "metadata": {
            "tags": []
          },
          "execution_count": 23
        }
      ]
    },
    {
      "cell_type": "code",
      "metadata": {
        "id": "8QJWxOpN-hBM",
        "colab_type": "code",
        "colab": {}
      },
      "source": [
        "df_clean['text_lemmatize_clean'] = df_clean['text_lemmatize'].str.replace('-PRON-', '')"
      ],
      "execution_count": 0,
      "outputs": []
    },
    {
      "cell_type": "code",
      "metadata": {
        "id": "oP80f54I-jWk",
        "colab_type": "code",
        "outputId": "229cae9c-7ca9-4b97-83c4-8291f1147d56",
        "colab": {
          "base_uri": "https://localhost:8080/",
          "height": 34
        }
      },
      "source": [
        "\n",
        "sentences = [row.split() for row in df_clean['text_lemmatize_clean']]\n",
        "word_freq = defaultdict(int)\n",
        "for sent in sentences:\n",
        "    for i in sent:\n",
        "        word_freq[i] += 1\n",
        "len(word_freq)"
      ],
      "execution_count": 0,
      "outputs": [
        {
          "output_type": "execute_result",
          "data": {
            "text/plain": [
              "25118"
            ]
          },
          "metadata": {
            "tags": []
          },
          "execution_count": 25
        }
      ]
    },
    {
      "cell_type": "code",
      "metadata": {
        "id": "JGgz3_PK-lZ2",
        "colab_type": "code",
        "outputId": "64d2ee94-6d65-481b-c46c-edc1b2196c23",
        "colab": {
          "base_uri": "https://localhost:8080/",
          "height": 34
        }
      },
      "source": [
        "sorted(word_freq, key=word_freq.get, reverse=True)[:10]"
      ],
      "execution_count": 0,
      "outputs": [
        {
          "output_type": "execute_result",
          "data": {
            "text/plain": [
              "['say', 'mr', 'year', 'would', 'make', 'people', 'also', 'new', 'one', 'take']"
            ]
          },
          "metadata": {
            "tags": []
          },
          "execution_count": 26
        }
      ]
    },
    {
      "cell_type": "code",
      "metadata": {
        "id": "ihhlxET3-noK",
        "colab_type": "code",
        "colab": {}
      },
      "source": [
        "w2v_model = Word2Vec(min_count=200,\n",
        "                     window=5,\n",
        "                     size=100,\n",
        "                     workers=4)"
      ],
      "execution_count": 0,
      "outputs": []
    },
    {
      "cell_type": "code",
      "metadata": {
        "id": "52Tekj6z-pfN",
        "colab_type": "code",
        "colab": {}
      },
      "source": [
        "w2v_model.build_vocab(sentences)"
      ],
      "execution_count": 0,
      "outputs": []
    },
    {
      "cell_type": "code",
      "metadata": {
        "id": "PCL7jhEh-qvN",
        "colab_type": "code",
        "outputId": "3283c1ee-1f5c-43e7-b08f-8a95f1331ed4",
        "colab": {
          "base_uri": "https://localhost:8080/",
          "height": 68
        }
      },
      "source": [
        "w2v_model.train(sentences, total_examples=w2v_model.corpus_count, epochs=w2v_model.iter)"
      ],
      "execution_count": 0,
      "outputs": [
        {
          "output_type": "stream",
          "text": [
            "/usr/local/lib/python3.6/dist-packages/ipykernel_launcher.py:1: DeprecationWarning: Call to deprecated `iter` (Attribute will be removed in 4.0.0, use self.epochs instead).\n",
            "  \"\"\"Entry point for launching an IPython kernel.\n"
          ],
          "name": "stderr"
        },
        {
          "output_type": "execute_result",
          "data": {
            "text/plain": [
              "(1157035, 2655285)"
            ]
          },
          "metadata": {
            "tags": []
          },
          "execution_count": 29
        }
      ]
    },
    {
      "cell_type": "code",
      "metadata": {
        "id": "FBndR2aaGL3K",
        "colab_type": "code",
        "colab": {}
      },
      "source": [
        "w2v_model.init_sims(replace=True)"
      ],
      "execution_count": 0,
      "outputs": []
    },
    {
      "cell_type": "code",
      "metadata": {
        "id": "zmM9UupaGNpy",
        "colab_type": "code",
        "outputId": "1140914b-8367-4f43-e5f5-785705052208",
        "colab": {
          "base_uri": "https://localhost:8080/",
          "height": 241
        }
      },
      "source": [
        "w2v_model.wv.most_similar(positive=['growth'])"
      ],
      "execution_count": 0,
      "outputs": [
        {
          "output_type": "stream",
          "text": [
            "/usr/local/lib/python3.6/dist-packages/gensim/matutils.py:737: FutureWarning: Conversion of the second argument of issubdtype from `int` to `np.signedinteger` is deprecated. In future, it will be treated as `np.int64 == np.dtype(int).type`.\n",
            "  if np.issubdtype(vec.dtype, np.int):\n"
          ],
          "name": "stderr"
        },
        {
          "output_type": "execute_result",
          "data": {
            "text/plain": [
              "[('rate', 0.9466197490692139),\n",
              " ('economy', 0.9465557336807251),\n",
              " ('low', 0.9433482885360718),\n",
              " ('rise', 0.9292025566101074),\n",
              " ('price', 0.9094661474227905),\n",
              " ('remain', 0.901011049747467),\n",
              " ('figure', 0.900577187538147),\n",
              " ('strong', 0.8980664014816284),\n",
              " ('likely', 0.896213173866272),\n",
              " ('predict', 0.892868161201477)]"
            ]
          },
          "metadata": {
            "tags": []
          },
          "execution_count": 31
        }
      ]
    },
    {
      "cell_type": "code",
      "metadata": {
        "id": "ADBWPhLLGOn9",
        "colab_type": "code",
        "outputId": "ba754ecd-b70a-4ebe-e1bd-9909a1aab248",
        "colab": {
          "base_uri": "https://localhost:8080/",
          "height": 241
        }
      },
      "source": [
        "w2v_model.wv.most_similar(positive=['statement'])"
      ],
      "execution_count": 0,
      "outputs": [
        {
          "output_type": "stream",
          "text": [
            "/usr/local/lib/python3.6/dist-packages/gensim/matutils.py:737: FutureWarning: Conversion of the second argument of issubdtype from `int` to `np.signedinteger` is deprecated. In future, it will be treated as `np.int64 == np.dtype(int).type`.\n",
            "  if np.issubdtype(vec.dtype, np.int):\n"
          ],
          "name": "stderr"
        },
        {
          "output_type": "execute_result",
          "data": {
            "text/plain": [
              "[('spokesman', 0.9313952922821045),\n",
              " ('police', 0.8993589878082275),\n",
              " ('chairman', 0.8844578862190247),\n",
              " ('comment', 0.8640029430389404),\n",
              " ('common', 0.8596587777137756),\n",
              " ('issue', 0.8587344884872437),\n",
              " ('bill', 0.8560528755187988),\n",
              " ('case', 0.8509966731071472),\n",
              " ('lord', 0.8505951166152954),\n",
              " ('foreign', 0.8395270109176636)]"
            ]
          },
          "metadata": {
            "tags": []
          },
          "execution_count": 32
        }
      ]
    },
    {
      "cell_type": "code",
      "metadata": {
        "id": "0jXklho9GTu3",
        "colab_type": "code",
        "outputId": "eb60b2a9-f2d6-4371-8c26-87f00cc51537",
        "colab": {
          "base_uri": "https://localhost:8080/",
          "height": 88
        }
      },
      "source": [
        "w2v_model.wv.similarity('growth', 'economy')\n"
      ],
      "execution_count": 0,
      "outputs": [
        {
          "output_type": "stream",
          "text": [
            "/usr/local/lib/python3.6/dist-packages/gensim/matutils.py:737: FutureWarning: Conversion of the second argument of issubdtype from `int` to `np.signedinteger` is deprecated. In future, it will be treated as `np.int64 == np.dtype(int).type`.\n",
            "  if np.issubdtype(vec.dtype, np.int):\n"
          ],
          "name": "stderr"
        },
        {
          "output_type": "execute_result",
          "data": {
            "text/plain": [
              "0.94655573"
            ]
          },
          "metadata": {
            "tags": []
          },
          "execution_count": 33
        }
      ]
    },
    {
      "cell_type": "code",
      "metadata": {
        "id": "rnhcsa-9GXTl",
        "colab_type": "code",
        "colab": {}
      },
      "source": [
        "def tsne_plot(model, wordSearch):\n",
        "    labels = []\n",
        "    tokens = []\n",
        "    \n",
        "    tokens.append(model[wordSearch])\n",
        "    labels.append(wordSearch)\n",
        "\n",
        "    for word, value in model.wv.most_similar(positive=[wordSearch]):\n",
        "        tokens.append(model[word])\n",
        "        labels.append(word)\n",
        "    \n",
        "    tsne_model = TSNE(perplexity=40, n_components=2, init='pca', n_iter=2500, random_state=23)\n",
        "    new_values = tsne_model.fit_transform(tokens)\n",
        "\n",
        "    x = []\n",
        "    y = []\n",
        "    for value in new_values:\n",
        "        x.append(value[0])\n",
        "        y.append(value[1])\n",
        "        \n",
        "    plt.figure(figsize=(10, 10))\n",
        "    plt.scatter(x[0],y[0], c='#ff0000')\n",
        "    plt.annotate(labels[0],\n",
        "                     xy=(x[0], y[0]),\n",
        "                     xytext=(5, 2),\n",
        "                     textcoords='offset points',\n",
        "                     ha='right',\n",
        "                     va='bottom')\n",
        "    for i in range(1, len(x)):\n",
        "        plt.scatter(x[i],y[i], c='#000000')\n",
        "        plt.annotate(labels[i],\n",
        "                     xy=(x[i], y[i]),\n",
        "                     xytext=(5, 2),\n",
        "                     textcoords='offset points',\n",
        "                     ha='right',\n",
        "                     va='bottom')\n",
        "    plt.show()"
      ],
      "execution_count": 0,
      "outputs": []
    },
    {
      "cell_type": "code",
      "metadata": {
        "id": "W2Dg-2gdGZRP",
        "colab_type": "code",
        "outputId": "99c2212b-868b-4f8d-9fc0-b2eb3a514ea0",
        "colab": {
          "base_uri": "https://localhost:8080/",
          "height": 1000
        }
      },
      "source": [
        "\n",
        "w2v_model.wv.vocab"
      ],
      "execution_count": 0,
      "outputs": [
        {
          "output_type": "execute_result",
          "data": {
            "text/plain": [
              "{'able': <gensim.models.keyedvectors.Vocab at 0x7fca61fd8e80>,\n",
              " 'access': <gensim.models.keyedvectors.Vocab at 0x7fca61fea2e8>,\n",
              " 'accord': <gensim.models.keyedvectors.Vocab at 0x7fca61fe2dd8>,\n",
              " 'account': <gensim.models.keyedvectors.Vocab at 0x7fca61fe66d8>,\n",
              " 'across': <gensim.models.keyedvectors.Vocab at 0x7fca61fe6518>,\n",
              " 'act': <gensim.models.keyedvectors.Vocab at 0x7fca61fd64e0>,\n",
              " 'action': <gensim.models.keyedvectors.Vocab at 0x7fca6204ff28>,\n",
              " 'actor': <gensim.models.keyedvectors.Vocab at 0x7fca61fea780>,\n",
              " 'add': <gensim.models.keyedvectors.Vocab at 0x7fca6204fb38>,\n",
              " 'age': <gensim.models.keyedvectors.Vocab at 0x7fca61fdff60>,\n",
              " 'ago': <gensim.models.keyedvectors.Vocab at 0x7fca61fdbfd0>,\n",
              " 'agree': <gensim.models.keyedvectors.Vocab at 0x7fca61fdb2e8>,\n",
              " 'ahead': <gensim.models.keyedvectors.Vocab at 0x7fca61fdb518>,\n",
              " 'aid': <gensim.models.keyedvectors.Vocab at 0x7fca61fe6d30>,\n",
              " 'aim': <gensim.models.keyedvectors.Vocab at 0x7fca61fe2eb8>,\n",
              " 'album': <gensim.models.keyedvectors.Vocab at 0x7fca61feab38>,\n",
              " 'allow': <gensim.models.keyedvectors.Vocab at 0x7fca61fe2908>,\n",
              " 'almost': <gensim.models.keyedvectors.Vocab at 0x7fca61fdf0b8>,\n",
              " 'already': <gensim.models.keyedvectors.Vocab at 0x7fca61fdb3c8>,\n",
              " 'also': <gensim.models.keyedvectors.Vocab at 0x7fca61fd8400>,\n",
              " 'although': <gensim.models.keyedvectors.Vocab at 0x7fca61fd6320>,\n",
              " 'always': <gensim.models.keyedvectors.Vocab at 0x7fca61fdb5c0>,\n",
              " 'american': <gensim.models.keyedvectors.Vocab at 0x7fca61fdf828>,\n",
              " 'among': <gensim.models.keyedvectors.Vocab at 0x7fca61fdf080>,\n",
              " 'analyst': <gensim.models.keyedvectors.Vocab at 0x7fca61fea5c0>,\n",
              " 'announce': <gensim.models.keyedvectors.Vocab at 0x7fca61fdfda0>,\n",
              " 'another': <gensim.models.keyedvectors.Vocab at 0x7fca61fd65c0>,\n",
              " 'appeal': <gensim.models.keyedvectors.Vocab at 0x7fca61fe60b8>,\n",
              " 'appear': <gensim.models.keyedvectors.Vocab at 0x7fca61fe2710>,\n",
              " 'apple': <gensim.models.keyedvectors.Vocab at 0x7fca61feac18>,\n",
              " 'area': <gensim.models.keyedvectors.Vocab at 0x7fca61fe2860>,\n",
              " 'argue': <gensim.models.keyedvectors.Vocab at 0x7fca61fdb198>,\n",
              " 'around': <gensim.models.keyedvectors.Vocab at 0x7fca61fd8c50>,\n",
              " 'ask': <gensim.models.keyedvectors.Vocab at 0x7fca61fd8828>,\n",
              " 'attack': <gensim.models.keyedvectors.Vocab at 0x7fca61fdfbe0>,\n",
              " 'attempt': <gensim.models.keyedvectors.Vocab at 0x7fca61fe2160>,\n",
              " 'available': <gensim.models.keyedvectors.Vocab at 0x7fca61fe6400>,\n",
              " 'award': <gensim.models.keyedvectors.Vocab at 0x7fca61fdfdd8>,\n",
              " 'away': <gensim.models.keyedvectors.Vocab at 0x7fca61fd6b00>,\n",
              " 'back': <gensim.models.keyedvectors.Vocab at 0x7fca61fd6128>,\n",
              " 'bad': <gensim.models.keyedvectors.Vocab at 0x7fca61fd86d8>,\n",
              " 'ban': <gensim.models.keyedvectors.Vocab at 0x7fca66b404a8>,\n",
              " 'band': <gensim.models.keyedvectors.Vocab at 0x7fca61fe6b00>,\n",
              " 'bank': <gensim.models.keyedvectors.Vocab at 0x7fca61fe6ac8>,\n",
              " 'base': <gensim.models.keyedvectors.Vocab at 0x7fca61fe66a0>,\n",
              " 'bbc': <gensim.models.keyedvectors.Vocab at 0x7fca61fd8ac8>,\n",
              " 'be': <gensim.models.keyedvectors.Vocab at 0x7fca61fd6ef0>,\n",
              " 'beat': <gensim.models.keyedvectors.Vocab at 0x7fca61fd6b70>,\n",
              " 'become': <gensim.models.keyedvectors.Vocab at 0x7fca61fdfa90>,\n",
              " 'begin': <gensim.models.keyedvectors.Vocab at 0x7fca61fdbb38>,\n",
              " 'behind': <gensim.models.keyedvectors.Vocab at 0x7fca61fe2198>,\n",
              " 'believe': <gensim.models.keyedvectors.Vocab at 0x7fca6204fac8>,\n",
              " 'bid': <gensim.models.keyedvectors.Vocab at 0x7fca61fe2b70>,\n",
              " 'big': <gensim.models.keyedvectors.Vocab at 0x7fca61fdb4e0>,\n",
              " 'bill': <gensim.models.keyedvectors.Vocab at 0x7fca61fe6438>,\n",
              " 'blair': <gensim.models.keyedvectors.Vocab at 0x7fca61fe6898>,\n",
              " 'blog': <gensim.models.keyedvectors.Vocab at 0x7fca61feab70>,\n",
              " 'bn': <gensim.models.keyedvectors.Vocab at 0x7fca61fea240>,\n",
              " 'book': <gensim.models.keyedvectors.Vocab at 0x7fca61fdbda0>,\n",
              " 'boost': <gensim.models.keyedvectors.Vocab at 0x7fca61fd62e8>,\n",
              " 'box': <gensim.models.keyedvectors.Vocab at 0x7fca61fd84e0>,\n",
              " 'break': <gensim.models.keyedvectors.Vocab at 0x7fca61fd6710>,\n",
              " 'bring': <gensim.models.keyedvectors.Vocab at 0x7fca61fdb5f8>,\n",
              " 'britain': <gensim.models.keyedvectors.Vocab at 0x7fca61fdfe48>,\n",
              " 'british': <gensim.models.keyedvectors.Vocab at 0x7fca61fd8048>,\n",
              " 'broadband': <gensim.models.keyedvectors.Vocab at 0x7fca61fea978>,\n",
              " 'brown': <gensim.models.keyedvectors.Vocab at 0x7fca61fdb9e8>,\n",
              " 'budget': <gensim.models.keyedvectors.Vocab at 0x7fca61fe6fd0>,\n",
              " 'build': <gensim.models.keyedvectors.Vocab at 0x7fca61fe2d30>,\n",
              " 'business': <gensim.models.keyedvectors.Vocab at 0x7fca61fe2048>,\n",
              " 'buy': <gensim.models.keyedvectors.Vocab at 0x7fca61fdf550>,\n",
              " 'call': <gensim.models.keyedvectors.Vocab at 0x7fca61fdb9b0>,\n",
              " 'camera': <gensim.models.keyedvectors.Vocab at 0x7fca61fe6da0>,\n",
              " 'campaign': <gensim.models.keyedvectors.Vocab at 0x7fca61fdfeb8>,\n",
              " 'can': <gensim.models.keyedvectors.Vocab at 0x7fca61fdf160>,\n",
              " 'car': <gensim.models.keyedvectors.Vocab at 0x7fca61fe2128>,\n",
              " 'card': <gensim.models.keyedvectors.Vocab at 0x7fca61fe6320>,\n",
              " 'case': <gensim.models.keyedvectors.Vocab at 0x7fca6204fb70>,\n",
              " 'cash': <gensim.models.keyedvectors.Vocab at 0x7fca61fe69e8>,\n",
              " 'centre': <gensim.models.keyedvectors.Vocab at 0x7fca61fdb6a0>,\n",
              " 'chairman': <gensim.models.keyedvectors.Vocab at 0x7fca61fdf5f8>,\n",
              " 'challenge': <gensim.models.keyedvectors.Vocab at 0x7fca61fd8710>,\n",
              " 'champion': <gensim.models.keyedvectors.Vocab at 0x7fca61fd8208>,\n",
              " 'chance': <gensim.models.keyedvectors.Vocab at 0x7fca61fd8b38>,\n",
              " 'chancellor': <gensim.models.keyedvectors.Vocab at 0x7fca61fea048>,\n",
              " 'change': <gensim.models.keyedvectors.Vocab at 0x7fca61fdf518>,\n",
              " 'charge': <gensim.models.keyedvectors.Vocab at 0x7fca61fd87f0>,\n",
              " 'chief': <gensim.models.keyedvectors.Vocab at 0x7fca61fe2a58>,\n",
              " 'child': <gensim.models.keyedvectors.Vocab at 0x7fca61fe6630>,\n",
              " 'china': <gensim.models.keyedvectors.Vocab at 0x7fca61fe63c8>,\n",
              " 'city': <gensim.models.keyedvectors.Vocab at 0x7fca61fdba20>,\n",
              " 'claim': <gensim.models.keyedvectors.Vocab at 0x7fca61fdb128>,\n",
              " 'clear': <gensim.models.keyedvectors.Vocab at 0x7fca66b408d0>,\n",
              " 'close': <gensim.models.keyedvectors.Vocab at 0x7fca61fdb2b0>,\n",
              " 'club': <gensim.models.keyedvectors.Vocab at 0x7fca6204fa90>,\n",
              " 'coach': <gensim.models.keyedvectors.Vocab at 0x7fca6204fd68>,\n",
              " 'come': <gensim.models.keyedvectors.Vocab at 0x7fca6204fa58>,\n",
              " 'comment': <gensim.models.keyedvectors.Vocab at 0x7fca6204ffd0>,\n",
              " 'commission': <gensim.models.keyedvectors.Vocab at 0x7fca61fe65f8>,\n",
              " 'common': <gensim.models.keyedvectors.Vocab at 0x7fca61fe6e80>,\n",
              " 'community': <gensim.models.keyedvectors.Vocab at 0x7fca61fea1d0>,\n",
              " 'company': <gensim.models.keyedvectors.Vocab at 0x7fca6204fdd8>,\n",
              " 'competition': <gensim.models.keyedvectors.Vocab at 0x7fca61fd6898>,\n",
              " 'computer': <gensim.models.keyedvectors.Vocab at 0x7fca61fea470>,\n",
              " 'concern': <gensim.models.keyedvectors.Vocab at 0x7fca61fe64a8>,\n",
              " 'conservative': <gensim.models.keyedvectors.Vocab at 0x7fca61fe6e48>,\n",
              " 'consider': <gensim.models.keyedvectors.Vocab at 0x7fca61fd8e10>,\n",
              " 'consumer': <gensim.models.keyedvectors.Vocab at 0x7fca61fea550>,\n",
              " 'content': <gensim.models.keyedvectors.Vocab at 0x7fca61fe2278>,\n",
              " 'continue': <gensim.models.keyedvectors.Vocab at 0x7fca61fd8f28>,\n",
              " 'control': <gensim.models.keyedvectors.Vocab at 0x7fca61fdf278>,\n",
              " 'cost': <gensim.models.keyedvectors.Vocab at 0x7fca61fe6748>,\n",
              " 'could': <gensim.models.keyedvectors.Vocab at 0x7fca61fd6278>,\n",
              " 'council': <gensim.models.keyedvectors.Vocab at 0x7fca61fe20b8>,\n",
              " 'country': <gensim.models.keyedvectors.Vocab at 0x7fca61fdb978>,\n",
              " 'court': <gensim.models.keyedvectors.Vocab at 0x7fca61fdff98>,\n",
              " 'create': <gensim.models.keyedvectors.Vocab at 0x7fca61fdbba8>,\n",
              " 'cup': <gensim.models.keyedvectors.Vocab at 0x7fca61fdb0b8>,\n",
              " 'current': <gensim.models.keyedvectors.Vocab at 0x7fca61fdb668>,\n",
              " 'currently': <gensim.models.keyedvectors.Vocab at 0x7fca61fe2ef0>,\n",
              " 'customer': <gensim.models.keyedvectors.Vocab at 0x7fca61fea4a8>,\n",
              " 'cut': <gensim.models.keyedvectors.Vocab at 0x7fca61fe2438>,\n",
              " 'datum': <gensim.models.keyedvectors.Vocab at 0x7fca61fea390>,\n",
              " 'david': <gensim.models.keyedvectors.Vocab at 0x7fca61fdf128>,\n",
              " 'day': <gensim.models.keyedvectors.Vocab at 0x7fca61fd8c88>,\n",
              " 'deal': <gensim.models.keyedvectors.Vocab at 0x7fca61fe2e10>,\n",
              " 'december': <gensim.models.keyedvectors.Vocab at 0x7fca61fdbef0>,\n",
              " 'decide': <gensim.models.keyedvectors.Vocab at 0x7fca66b405f8>,\n",
              " 'decision': <gensim.models.keyedvectors.Vocab at 0x7fca66b40940>,\n",
              " 'demand': <gensim.models.keyedvectors.Vocab at 0x7fca61fdf588>,\n",
              " 'deny': <gensim.models.keyedvectors.Vocab at 0x7fca66b402b0>,\n",
              " 'design': <gensim.models.keyedvectors.Vocab at 0x7fca61fd6438>,\n",
              " 'despite': <gensim.models.keyedvectors.Vocab at 0x7fca61fdb7b8>,\n",
              " 'develop': <gensim.models.keyedvectors.Vocab at 0x7fca61fe2a90>,\n",
              " 'development': <gensim.models.keyedvectors.Vocab at 0x7fca61fe6b38>,\n",
              " 'device': <gensim.models.keyedvectors.Vocab at 0x7fca61fea860>,\n",
              " 'different': <gensim.models.keyedvectors.Vocab at 0x7fca61fdf358>,\n",
              " 'digital': <gensim.models.keyedvectors.Vocab at 0x7fca61fea940>,\n",
              " 'director': <gensim.models.keyedvectors.Vocab at 0x7fca61fd6198>,\n",
              " 'do': <gensim.models.keyedvectors.Vocab at 0x7fca61fd6e48>,\n",
              " 'dollar': <gensim.models.keyedvectors.Vocab at 0x7fca61fea710>,\n",
              " 'download': <gensim.models.keyedvectors.Vocab at 0x7fca61fea9e8>,\n",
              " 'drive': <gensim.models.keyedvectors.Vocab at 0x7fca61fdbc88>,\n",
              " 'drop': <gensim.models.keyedvectors.Vocab at 0x7fca61fd89e8>,\n",
              " 'drug': <gensim.models.keyedvectors.Vocab at 0x7fca66b401d0>,\n",
              " 'due': <gensim.models.keyedvectors.Vocab at 0x7fca61fdfcf8>,\n",
              " 'early': <gensim.models.keyedvectors.Vocab at 0x7fca61fd8358>,\n",
              " 'easy': <gensim.models.keyedvectors.Vocab at 0x7fca61fe2668>,\n",
              " 'economic': <gensim.models.keyedvectors.Vocab at 0x7fca61fea438>,\n",
              " 'economy': <gensim.models.keyedvectors.Vocab at 0x7fca61fea278>,\n",
              " 'election': <gensim.models.keyedvectors.Vocab at 0x7fca61fe6dd8>,\n",
              " 'email': <gensim.models.keyedvectors.Vocab at 0x7fca61fe6c18>,\n",
              " 'end': <gensim.models.keyedvectors.Vocab at 0x7fca61fdfb00>,\n",
              " 'england': <gensim.models.keyedvectors.Vocab at 0x7fca61fd88d0>,\n",
              " 'enough': <gensim.models.keyedvectors.Vocab at 0x7fca61fd6c88>,\n",
              " 'ensure': <gensim.models.keyedvectors.Vocab at 0x7fca61fe29b0>,\n",
              " 'eu': <gensim.models.keyedvectors.Vocab at 0x7fca61fea3c8>,\n",
              " 'euro': <gensim.models.keyedvectors.Vocab at 0x7fca61fe2b00>,\n",
              " 'europe': <gensim.models.keyedvectors.Vocab at 0x7fca61fdf390>,\n",
              " 'european': <gensim.models.keyedvectors.Vocab at 0x7fca61fd6be0>,\n",
              " 'even': <gensim.models.keyedvectors.Vocab at 0x7fca61fdf400>,\n",
              " 'event': <gensim.models.keyedvectors.Vocab at 0x7fca61fd87b8>,\n",
              " 'ever': <gensim.models.keyedvectors.Vocab at 0x7fca61fd6630>,\n",
              " 'every': <gensim.models.keyedvectors.Vocab at 0x7fca61fd68d0>,\n",
              " 'executive': <gensim.models.keyedvectors.Vocab at 0x7fca61fdfd68>,\n",
              " 'expect': <gensim.models.keyedvectors.Vocab at 0x7fca61fd8438>,\n",
              " 'face': <gensim.models.keyedvectors.Vocab at 0x7fca66b40b38>,\n",
              " 'fact': <gensim.models.keyedvectors.Vocab at 0x7fca61fd65f8>,\n",
              " 'fail': <gensim.models.keyedvectors.Vocab at 0x7fcae4c2fc50>,\n",
              " 'fall': <gensim.models.keyedvectors.Vocab at 0x7fca61fdfac8>,\n",
              " 'family': <gensim.models.keyedvectors.Vocab at 0x7fca61fe2400>,\n",
              " 'fan': <gensim.models.keyedvectors.Vocab at 0x7fca6204f9b0>,\n",
              " 'far': <gensim.models.keyedvectors.Vocab at 0x7fca61fdf7b8>,\n",
              " 'fast': <gensim.models.keyedvectors.Vocab at 0x7fca61fd8320>,\n",
              " 'fear': <gensim.models.keyedvectors.Vocab at 0x7fca61fdfc88>,\n",
              " 'feature': <gensim.models.keyedvectors.Vocab at 0x7fca61fdbf98>,\n",
              " 'february': <gensim.models.keyedvectors.Vocab at 0x7fca61fdfc50>,\n",
              " 'feel': <gensim.models.keyedvectors.Vocab at 0x7fca61fd84a8>,\n",
              " 'fight': <gensim.models.keyedvectors.Vocab at 0x7fca61fdf9b0>,\n",
              " 'figure': <gensim.models.keyedvectors.Vocab at 0x7fca61fe6a20>,\n",
              " 'file': <gensim.models.keyedvectors.Vocab at 0x7fca61fea8d0>,\n",
              " 'film': <gensim.models.keyedvectors.Vocab at 0x7fca61fdb588>,\n",
              " 'final': <gensim.models.keyedvectors.Vocab at 0x7fca61fd6d68>,\n",
              " 'financial': <gensim.models.keyedvectors.Vocab at 0x7fca6204fda0>,\n",
              " 'find': <gensim.models.keyedvectors.Vocab at 0x7fca61fdbb70>,\n",
              " 'firm': <gensim.models.keyedvectors.Vocab at 0x7fca61fe67f0>,\n",
              " 'first': <gensim.models.keyedvectors.Vocab at 0x7fca6204f9e8>,\n",
              " 'five': <gensim.models.keyedvectors.Vocab at 0x7fca6204fb00>,\n",
              " 'follow': <gensim.models.keyedvectors.Vocab at 0x7fca6204ff60>,\n",
              " 'force': <gensim.models.keyedvectors.Vocab at 0x7fca61fdbac8>,\n",
              " 'foreign': <gensim.models.keyedvectors.Vocab at 0x7fca61fea0f0>,\n",
              " 'form': <gensim.models.keyedvectors.Vocab at 0x7fca6204fc50>,\n",
              " 'former': <gensim.models.keyedvectors.Vocab at 0x7fca61fd6160>,\n",
              " 'four': <gensim.models.keyedvectors.Vocab at 0x7fca61fd8dd8>,\n",
              " 'france': <gensim.models.keyedvectors.Vocab at 0x7fca61fd6fd0>,\n",
              " 'free': <gensim.models.keyedvectors.Vocab at 0x7fca61fdf748>,\n",
              " 'friday': <gensim.models.keyedvectors.Vocab at 0x7fca61fdbe10>,\n",
              " 'full': <gensim.models.keyedvectors.Vocab at 0x7fca61fdf630>,\n",
              " 'fund': <gensim.models.keyedvectors.Vocab at 0x7fca61fe61d0>,\n",
              " 'future': <gensim.models.keyedvectors.Vocab at 0x7fca61fd8f98>,\n",
              " 'g': <gensim.models.keyedvectors.Vocab at 0x7fca61fe2da0>,\n",
              " 'gadget': <gensim.models.keyedvectors.Vocab at 0x7fca61feac50>,\n",
              " 'game': <gensim.models.keyedvectors.Vocab at 0x7fca6204fba8>,\n",
              " 'general': <gensim.models.keyedvectors.Vocab at 0x7fca61fe6278>,\n",
              " 'get': <gensim.models.keyedvectors.Vocab at 0x7fca61fd6908>,\n",
              " 'giant': <gensim.models.keyedvectors.Vocab at 0x7fca61fe6860>,\n",
              " 'give': <gensim.models.keyedvectors.Vocab at 0x7fca61fd62b0>,\n",
              " 'global': <gensim.models.keyedvectors.Vocab at 0x7fca61fe6128>,\n",
              " 'go': <gensim.models.keyedvectors.Vocab at 0x7fca6204fcf8>,\n",
              " 'goal': <gensim.models.keyedvectors.Vocab at 0x7fca66b409e8>,\n",
              " 'good': <gensim.models.keyedvectors.Vocab at 0x7fca61fd69e8>,\n",
              " 'government': <gensim.models.keyedvectors.Vocab at 0x7fca61fe6f98>,\n",
              " 'great': <gensim.models.keyedvectors.Vocab at 0x7fca61fd82b0>,\n",
              " 'group': <gensim.models.keyedvectors.Vocab at 0x7fca61fdb828>,\n",
              " 'grow': <gensim.models.keyedvectors.Vocab at 0x7fca61fdfc18>,\n",
              " 'growth': <gensim.models.keyedvectors.Vocab at 0x7fca61fea6d8>,\n",
              " 'half': <gensim.models.keyedvectors.Vocab at 0x7fca61fd8470>,\n",
              " 'hand': <gensim.models.keyedvectors.Vocab at 0x7fca61fd6cc0>,\n",
              " 'happen': <gensim.models.keyedvectors.Vocab at 0x7fca61fd8cc0>,\n",
              " 'hard': <gensim.models.keyedvectors.Vocab at 0x7fca61fd8b00>,\n",
              " 'have': <gensim.models.keyedvectors.Vocab at 0x7fca61fd6c18>,\n",
              " 'head': <gensim.models.keyedvectors.Vocab at 0x7fca61fdf710>,\n",
              " 'help': <gensim.models.keyedvectors.Vocab at 0x7fca61fd8a20>,\n",
              " 'high': <gensim.models.keyedvectors.Vocab at 0x7fca61fdf6a0>,\n",
              " 'hit': <gensim.models.keyedvectors.Vocab at 0x7fca61fdf978>,\n",
              " 'hold': <gensim.models.keyedvectors.Vocab at 0x7fca61fdf0f0>,\n",
              " 'home': <gensim.models.keyedvectors.Vocab at 0x7fca61fdbcf8>,\n",
              " 'hope': <gensim.models.keyedvectors.Vocab at 0x7fca61fd8a90>,\n",
              " 'hour': <gensim.models.keyedvectors.Vocab at 0x7fca61fdf780>,\n",
              " 'house': <gensim.models.keyedvectors.Vocab at 0x7fca61fe6cc0>,\n",
              " 'howard': <gensim.models.keyedvectors.Vocab at 0x7fca61fdbb00>,\n",
              " 'however': <gensim.models.keyedvectors.Vocab at 0x7fca61fd8668>,\n",
              " 'huge': <gensim.models.keyedvectors.Vocab at 0x7fca61fdf4e0>,\n",
              " 'human': <gensim.models.keyedvectors.Vocab at 0x7fca61fe6470>,\n",
              " 'idea': <gensim.models.keyedvectors.Vocab at 0x7fca61fe26a0>,\n",
              " 'image': <gensim.models.keyedvectors.Vocab at 0x7fca61fe6ba8>,\n",
              " 'important': <gensim.models.keyedvectors.Vocab at 0x7fca6204fc88>,\n",
              " 'improve': <gensim.models.keyedvectors.Vocab at 0x7fca61fe2c88>,\n",
              " 'include': <gensim.models.keyedvectors.Vocab at 0x7fca61fd8978>,\n",
              " 'increase': <gensim.models.keyedvectors.Vocab at 0x7fca61fe2550>,\n",
              " 'industry': <gensim.models.keyedvectors.Vocab at 0x7fca61fe6f60>,\n",
              " 'information': <gensim.models.keyedvectors.Vocab at 0x7fca61fd6048>,\n",
              " 'injury': <gensim.models.keyedvectors.Vocab at 0x7fca61fdb7f0>,\n",
              " 'interest': <gensim.models.keyedvectors.Vocab at 0x7fca61fdbf28>,\n",
              " 'international': <gensim.models.keyedvectors.Vocab at 0x7fca61fd63c8>,\n",
              " 'internet': <gensim.models.keyedvectors.Vocab at 0x7fca61fea320>,\n",
              " 'investment': <gensim.models.keyedvectors.Vocab at 0x7fca61fea6a0>,\n",
              " 'ireland': <gensim.models.keyedvectors.Vocab at 0x7fca61fd8860>,\n",
              " 'issue': <gensim.models.keyedvectors.Vocab at 0x7fca61fe2f60>,\n",
              " 'january': <gensim.models.keyedvectors.Vocab at 0x7fca61fdfef0>,\n",
              " 'japan': <gensim.models.keyedvectors.Vocab at 0x7fca61fe6160>,\n",
              " 'job': <gensim.models.keyedvectors.Vocab at 0x7fca61fdf208>,\n",
              " 'john': <gensim.models.keyedvectors.Vocab at 0x7fca61fe2630>,\n",
              " 'join': <gensim.models.keyedvectors.Vocab at 0x7fca61fdb390>,\n",
              " 'keep': <gensim.models.keyedvectors.Vocab at 0x7fca61fd8a58>,\n",
              " 'key': <gensim.models.keyedvectors.Vocab at 0x7fca61fe2cc0>,\n",
              " 'know': <gensim.models.keyedvectors.Vocab at 0x7fca61fd8d30>,\n",
              " 'labour': <gensim.models.keyedvectors.Vocab at 0x7fca61fe6d68>,\n",
              " 'large': <gensim.models.keyedvectors.Vocab at 0x7fca61fe23c8>,\n",
              " 'last': <gensim.models.keyedvectors.Vocab at 0x7fca66b407f0>,\n",
              " 'late': <gensim.models.keyedvectors.Vocab at 0x7fca61fdba90>,\n",
              " 'later': <gensim.models.keyedvectors.Vocab at 0x7fca66b40208>,\n",
              " 'launch': <gensim.models.keyedvectors.Vocab at 0x7fca61fe27b8>,\n",
              " 'law': <gensim.models.keyedvectors.Vocab at 0x7fca61fe2f28>,\n",
              " 'lead': <gensim.models.keyedvectors.Vocab at 0x7fca61fdb0f0>,\n",
              " 'leader': <gensim.models.keyedvectors.Vocab at 0x7fca61fe6a58>,\n",
              " 'league': <gensim.models.keyedvectors.Vocab at 0x7fca61fdb748>,\n",
              " 'least': <gensim.models.keyedvectors.Vocab at 0x7fca61fdbeb8>,\n",
              " 'leave': <gensim.models.keyedvectors.Vocab at 0x7fca61fdb1d0>,\n",
              " 'legal': <gensim.models.keyedvectors.Vocab at 0x7fca61fe67b8>,\n",
              " 'less': <gensim.models.keyedvectors.Vocab at 0x7fca61fe2080>,\n",
              " 'let': <gensim.models.keyedvectors.Vocab at 0x7fca61fd6ac8>,\n",
              " 'level': <gensim.models.keyedvectors.Vocab at 0x7fca61fdf6d8>,\n",
              " 'life': <gensim.models.keyedvectors.Vocab at 0x7fca61fdf898>,\n",
              " 'like': <gensim.models.keyedvectors.Vocab at 0x7fca61fd6860>,\n",
              " 'likely': <gensim.models.keyedvectors.Vocab at 0x7fca61fdf048>,\n",
              " 'line': <gensim.models.keyedvectors.Vocab at 0x7fca61fdf668>,\n",
              " 'link': <gensim.models.keyedvectors.Vocab at 0x7fca61fdfa20>,\n",
              " 'list': <gensim.models.keyedvectors.Vocab at 0x7fca61fe29e8>,\n",
              " 'little': <gensim.models.keyedvectors.Vocab at 0x7fca61fdb278>,\n",
              " 'live': <gensim.models.keyedvectors.Vocab at 0x7fca61fdff28>,\n",
              " 'local': <gensim.models.keyedvectors.Vocab at 0x7fca61fdfd30>,\n",
              " 'london': <gensim.models.keyedvectors.Vocab at 0x7fca61fe21d0>,\n",
              " 'long': <gensim.models.keyedvectors.Vocab at 0x7fca61fd8d68>,\n",
              " 'look': <gensim.models.keyedvectors.Vocab at 0x7fca61fd69b0>,\n",
              " 'lord': <gensim.models.keyedvectors.Vocab at 0x7fca61fe65c0>,\n",
              " 'lose': <gensim.models.keyedvectors.Vocab at 0x7fca61fd8da0>,\n",
              " 'lot': <gensim.models.keyedvectors.Vocab at 0x7fca61fd6dd8>,\n",
              " 'low': <gensim.models.keyedvectors.Vocab at 0x7fca61fdbd68>,\n",
              " 'machine': <gensim.models.keyedvectors.Vocab at 0x7fca61fea4e0>,\n",
              " 'main': <gensim.models.keyedvectors.Vocab at 0x7fca61fe2780>,\n",
              " 'major': <gensim.models.keyedvectors.Vocab at 0x7fca6204fd30>,\n",
              " 'make': <gensim.models.keyedvectors.Vocab at 0x7fca66b40a20>,\n",
              " 'man': <gensim.models.keyedvectors.Vocab at 0x7fca61fdb8d0>,\n",
              " 'manager': <gensim.models.keyedvectors.Vocab at 0x7fca61fdf2b0>,\n",
              " 'many': <gensim.models.keyedvectors.Vocab at 0x7fca61fd66a0>,\n",
              " 'march': <gensim.models.keyedvectors.Vocab at 0x7fca61fe25c0>,\n",
              " 'mark': <gensim.models.keyedvectors.Vocab at 0x7fca61fd6e10>,\n",
              " 'market': <gensim.models.keyedvectors.Vocab at 0x7fca61fea198>,\n",
              " 'match': <gensim.models.keyedvectors.Vocab at 0x7fca61fd86a0>,\n",
              " 'may': <gensim.models.keyedvectors.Vocab at 0x7fca66b40a90>,\n",
              " 'mean': <gensim.models.keyedvectors.Vocab at 0x7fca61fd6f28>,\n",
              " 'medium': <gensim.models.keyedvectors.Vocab at 0x7fca61fdf9e8>,\n",
              " 'meet': <gensim.models.keyedvectors.Vocab at 0x7fca61fd6550>,\n",
              " 'meeting': <gensim.models.keyedvectors.Vocab at 0x7fca61fe2ba8>,\n",
              " 'member': <gensim.models.keyedvectors.Vocab at 0x7fca61fe6550>,\n",
              " 'message': <gensim.models.keyedvectors.Vocab at 0x7fca61fe6be0>,\n",
              " 'michael': <gensim.models.keyedvectors.Vocab at 0x7fca61fe2c50>,\n",
              " 'microsoft': <gensim.models.keyedvectors.Vocab at 0x7fca61feaa58>,\n",
              " 'million': <gensim.models.keyedvectors.Vocab at 0x7fca61fe2f98>,\n",
              " 'minister': <gensim.models.keyedvectors.Vocab at 0x7fca61fe6b70>,\n",
              " 'minute': <gensim.models.keyedvectors.Vocab at 0x7fca61fdb208>,\n",
              " 'miss': <gensim.models.keyedvectors.Vocab at 0x7fca61fdb550>,\n",
              " 'mobile': <gensim.models.keyedvectors.Vocab at 0x7fca61fea828>,\n",
              " 'monday': <gensim.models.keyedvectors.Vocab at 0x7fca61fdfe10>,\n",
              " 'money': <gensim.models.keyedvectors.Vocab at 0x7fca61fd83c8>,\n",
              " 'month': <gensim.models.keyedvectors.Vocab at 0x7fca61fe2320>,\n",
              " 'move': <gensim.models.keyedvectors.Vocab at 0x7fca61fd60f0>,\n",
              " 'movie': <gensim.models.keyedvectors.Vocab at 0x7fca61feaac8>,\n",
              " 'mp': <gensim.models.keyedvectors.Vocab at 0x7fca61fea160>,\n",
              " 'mr': <gensim.models.keyedvectors.Vocab at 0x7fca61fe69b0>,\n",
              " 'ms': <gensim.models.keyedvectors.Vocab at 0x7fca61fea208>,\n",
              " 'much': <gensim.models.keyedvectors.Vocab at 0x7fca61fd6f98>,\n",
              " 'music': <gensim.models.keyedvectors.Vocab at 0x7fca61fea7f0>,\n",
              " 'must': <gensim.models.keyedvectors.Vocab at 0x7fca61fe20f0>,\n",
              " 'name': <gensim.models.keyedvectors.Vocab at 0x7fca61fdbe48>,\n",
              " 'nation': <gensim.models.keyedvectors.Vocab at 0x7fca61fd8ba8>,\n",
              " 'national': <gensim.models.keyedvectors.Vocab at 0x7fca61fd8160>,\n",
              " 'need': <gensim.models.keyedvectors.Vocab at 0x7fca61fe2978>,\n",
              " 'net': <gensim.models.keyedvectors.Vocab at 0x7fca61fdbd30>,\n",
              " 'network': <gensim.models.keyedvectors.Vocab at 0x7fca61fea668>,\n",
              " 'never': <gensim.models.keyedvectors.Vocab at 0x7fca61fd8b70>,\n",
              " 'new': <gensim.models.keyedvectors.Vocab at 0x7fca61fd8198>,\n",
              " 'news': <gensim.models.keyedvectors.Vocab at 0x7fca61fdb438>,\n",
              " 'next': <gensim.models.keyedvectors.Vocab at 0x7fca61fdb6d8>,\n",
              " 'not': <gensim.models.keyedvectors.Vocab at 0x7fca61fd6c50>,\n",
              " 'november': <gensim.models.keyedvectors.Vocab at 0x7fca61fdb940>,\n",
              " 'number': <gensim.models.keyedvectors.Vocab at 0x7fca61fd8908>,\n",
              " 'offer': <gensim.models.keyedvectors.Vocab at 0x7fca61fdb400>,\n",
              " 'office': <gensim.models.keyedvectors.Vocab at 0x7fca61fea0b8>,\n",
              " 'official': <gensim.models.keyedvectors.Vocab at 0x7fca61fd85c0>,\n",
              " 'oil': <gensim.models.keyedvectors.Vocab at 0x7fca61fea5f8>,\n",
              " 'old': <gensim.models.keyedvectors.Vocab at 0x7fca61fdb320>,\n",
              " 'olympic': <gensim.models.keyedvectors.Vocab at 0x7fca61fdffd0>,\n",
              " 'one': <gensim.models.keyedvectors.Vocab at 0x7fca61fd67f0>,\n",
              " 'online': <gensim.models.keyedvectors.Vocab at 0x7fca61fea588>,\n",
              " 'open': <gensim.models.keyedvectors.Vocab at 0x7fca61fdb780>,\n",
              " 'opportunity': <gensim.models.keyedvectors.Vocab at 0x7fca61fdbf60>,\n",
              " 'order': <gensim.models.keyedvectors.Vocab at 0x7fca61fdf1d0>,\n",
              " 'organisation': <gensim.models.keyedvectors.Vocab at 0x7fca61fe2cf8>,\n",
              " 'other': <gensim.models.keyedvectors.Vocab at 0x7fca61fe2d68>,\n",
              " 'part': <gensim.models.keyedvectors.Vocab at 0x7fca61fdb048>,\n",
              " 'party': <gensim.models.keyedvectors.Vocab at 0x7fca61fe6908>,\n",
              " 'past': <gensim.models.keyedvectors.Vocab at 0x7fca61fdb860>,\n",
              " 'pay': <gensim.models.keyedvectors.Vocab at 0x7fca61fdf240>,\n",
              " 'pc': <gensim.models.keyedvectors.Vocab at 0x7fca61feaa90>,\n",
              " 'people': <gensim.models.keyedvectors.Vocab at 0x7fca61fd8550>,\n",
              " 'performance': <gensim.models.keyedvectors.Vocab at 0x7fca61fd6470>,\n",
              " 'personal': <gensim.models.keyedvectors.Vocab at 0x7fca61fd81d0>,\n",
              " 'phone': <gensim.models.keyedvectors.Vocab at 0x7fca61fea400>,\n",
              " 'picture': <gensim.models.keyedvectors.Vocab at 0x7fca61fe6710>,\n",
              " 'place': <gensim.models.keyedvectors.Vocab at 0x7fca6204fcc0>,\n",
              " 'plan': <gensim.models.keyedvectors.Vocab at 0x7fca61fdb080>,\n",
              " 'play': <gensim.models.keyedvectors.Vocab at 0x7fca61fd6e80>,\n",
              " 'player': <gensim.models.keyedvectors.Vocab at 0x7fca6204fbe0>,\n",
              " 'point': <gensim.models.keyedvectors.Vocab at 0x7fca61fd8080>,\n",
              " 'police': <gensim.models.keyedvectors.Vocab at 0x7fca61fe2940>,\n",
              " 'policy': <gensim.models.keyedvectors.Vocab at 0x7fca66b40a58>,\n",
              " 'political': <gensim.models.keyedvectors.Vocab at 0x7fca61fea128>,\n",
              " 'popular': <gensim.models.keyedvectors.Vocab at 0x7fca61fe6358>,\n",
              " 'possible': <gensim.models.keyedvectors.Vocab at 0x7fca66b40588>,\n",
              " 'power': <gensim.models.keyedvectors.Vocab at 0x7fca61fe2898>,\n",
              " 'predict': <gensim.models.keyedvectors.Vocab at 0x7fca61fe6c88>,\n",
              " 'president': <gensim.models.keyedvectors.Vocab at 0x7fca61fe6978>,\n",
              " 'price': <gensim.models.keyedvectors.Vocab at 0x7fca61fe68d0>,\n",
              " 'prime': <gensim.models.keyedvectors.Vocab at 0x7fca61fe6390>,\n",
              " 'prize': <gensim.models.keyedvectors.Vocab at 0x7fca61fdfe80>,\n",
              " 'problem': <gensim.models.keyedvectors.Vocab at 0x7fca61fdfcc0>,\n",
              " 'produce': <gensim.models.keyedvectors.Vocab at 0x7fca61fd6588>,\n",
              " 'product': <gensim.models.keyedvectors.Vocab at 0x7fca61fe6a90>,\n",
              " 'production': <gensim.models.keyedvectors.Vocab at 0x7fca61fea630>,\n",
              " 'profit': <gensim.models.keyedvectors.Vocab at 0x7fca61fea748>,\n",
              " 'program': <gensim.models.keyedvectors.Vocab at 0x7fca61fea908>,\n",
              " 'programme': <gensim.models.keyedvectors.Vocab at 0x7fca61fe60f0>,\n",
              " 'project': <gensim.models.keyedvectors.Vocab at 0x7fca61fe6668>,\n",
              " 'proposal': <gensim.models.keyedvectors.Vocab at 0x7fca61fe6198>,\n",
              " 'prove': <gensim.models.keyedvectors.Vocab at 0x7fca61fd8eb8>,\n",
              " 'provide': <gensim.models.keyedvectors.Vocab at 0x7fca61fe2518>,\n",
              " 'public': <gensim.models.keyedvectors.Vocab at 0x7fca61fe26d8>,\n",
              " 'put': <gensim.models.keyedvectors.Vocab at 0x7fca61fd6780>,\n",
              " 'quarter': <gensim.models.keyedvectors.Vocab at 0x7fca61fe27f0>,\n",
              " 'question': <gensim.models.keyedvectors.Vocab at 0x7fca61fd6390>,\n",
              " 'race': <gensim.models.keyedvectors.Vocab at 0x7fca61fd6b38>,\n",
              " 'radio': <gensim.models.keyedvectors.Vocab at 0x7fca61fe64e0>,\n",
              " 'raise': <gensim.models.keyedvectors.Vocab at 0x7fca61fe6080>,\n",
              " 'rate': <gensim.models.keyedvectors.Vocab at 0x7fca61fe6f28>,\n",
              " 'rather': <gensim.models.keyedvectors.Vocab at 0x7fca61fd67b8>,\n",
              " 'reach': <gensim.models.keyedvectors.Vocab at 0x7fca61fdb4a8>,\n",
              " 'real': <gensim.models.keyedvectors.Vocab at 0x7fca61fd8278>,\n",
              " 'really': <gensim.models.keyedvectors.Vocab at 0x7fca61fd8be0>,\n",
              " 'receive': <gensim.models.keyedvectors.Vocab at 0x7fca61fdf860>,\n",
              " 'recent': <gensim.models.keyedvectors.Vocab at 0x7fca61fe2e80>,\n",
              " 'record': <gensim.models.keyedvectors.Vocab at 0x7fca61fd6518>,\n",
              " 'release': <gensim.models.keyedvectors.Vocab at 0x7fca61fe6cf8>,\n",
              " 'remain': <gensim.models.keyedvectors.Vocab at 0x7fca61fd8fd0>,\n",
              " 'report': <gensim.models.keyedvectors.Vocab at 0x7fca61fd6358>,\n",
              " 'research': <gensim.models.keyedvectors.Vocab at 0x7fca61fea2b0>,\n",
              " 'result': <gensim.models.keyedvectors.Vocab at 0x7fca61fd8630>,\n",
              " 'return': <gensim.models.keyedvectors.Vocab at 0x7fca61fdb630>,\n",
              " 'right': <gensim.models.keyedvectors.Vocab at 0x7fca61fd6208>,\n",
              " 'rise': <gensim.models.keyedvectors.Vocab at 0x7fca61fdfa58>,\n",
              " 'role': <gensim.models.keyedvectors.Vocab at 0x7fca61fe2b38>,\n",
              " 'rugby': <gensim.models.keyedvectors.Vocab at 0x7fca61fdb710>,\n",
              " 'rule': <gensim.models.keyedvectors.Vocab at 0x7fca6204fe80>,\n",
              " 'run': <gensim.models.keyedvectors.Vocab at 0x7fca61fd6ba8>,\n",
              " 's': <gensim.models.keyedvectors.Vocab at 0x7fca61fdf198>,\n",
              " 'sale': <gensim.models.keyedvectors.Vocab at 0x7fca61fdb908>,\n",
              " 'saturday': <gensim.models.keyedvectors.Vocab at 0x7fca61fdb240>,\n",
              " 'say': <gensim.models.keyedvectors.Vocab at 0x7fca61fd6080>,\n",
              " 'school': <gensim.models.keyedvectors.Vocab at 0x7fca61fe24a8>,\n",
              " 'scotland': <gensim.models.keyedvectors.Vocab at 0x7fca61fd8240>,\n",
              " 'screen': <gensim.models.keyedvectors.Vocab at 0x7fca61fe22b0>,\n",
              " 'search': <gensim.models.keyedvectors.Vocab at 0x7fca61fdbc18>,\n",
              " 'season': <gensim.models.keyedvectors.Vocab at 0x7fca66b409b0>,\n",
              " 'second': <gensim.models.keyedvectors.Vocab at 0x7fca61fd6a20>,\n",
              " 'secretary': <gensim.models.keyedvectors.Vocab at 0x7fca61fe24e0>,\n",
              " 'security': <gensim.models.keyedvectors.Vocab at 0x7fca61fea518>,\n",
              " 'see': <gensim.models.keyedvectors.Vocab at 0x7fca61fd6668>,\n",
              " 'seek': <gensim.models.keyedvectors.Vocab at 0x7fca61fe2e48>,\n",
              " 'sell': <gensim.models.keyedvectors.Vocab at 0x7fca61fea7b8>,\n",
              " 'send': <gensim.models.keyedvectors.Vocab at 0x7fca61fd8780>,\n",
              " 'series': <gensim.models.keyedvectors.Vocab at 0x7fca61fdf8d0>,\n",
              " 'service': <gensim.models.keyedvectors.Vocab at 0x7fca61fe6208>,\n",
              " 'set': <gensim.models.keyedvectors.Vocab at 0x7fca61fd82e8>,\n",
              " 'several': <gensim.models.keyedvectors.Vocab at 0x7fca61fe2208>,\n",
              " 'share': <gensim.models.keyedvectors.Vocab at 0x7fca61fe6828>,\n",
              " 'show': <gensim.models.keyedvectors.Vocab at 0x7fca61fdbbe0>,\n",
              " 'side': <gensim.models.keyedvectors.Vocab at 0x7fca61fd8898>,\n",
              " 'sign': <gensim.models.keyedvectors.Vocab at 0x7fca66b40748>,\n",
              " 'since': <gensim.models.keyedvectors.Vocab at 0x7fca61fdf3c8>,\n",
              " 'single': <gensim.models.keyedvectors.Vocab at 0x7fca61fdfb38>,\n",
              " 'site': <gensim.models.keyedvectors.Vocab at 0x7fca61fe2ac8>,\n",
              " 'six': <gensim.models.keyedvectors.Vocab at 0x7fca66b40b00>,\n",
              " 'small': <gensim.models.keyedvectors.Vocab at 0x7fca61fe25f8>,\n",
              " 'software': <gensim.models.keyedvectors.Vocab at 0x7fca61feaa20>,\n",
              " 'something': <gensim.models.keyedvectors.Vocab at 0x7fca61fd8128>,\n",
              " 'song': <gensim.models.keyedvectors.Vocab at 0x7fca61feab00>,\n",
              " 'south': <gensim.models.keyedvectors.Vocab at 0x7fca61fe2828>,\n",
              " 'speak': <gensim.models.keyedvectors.Vocab at 0x7fca61fdb470>,\n",
              " 'speed': <gensim.models.keyedvectors.Vocab at 0x7fca61fe28d0>,\n",
              " 'spend': <gensim.models.keyedvectors.Vocab at 0x7fca61fe2a20>,\n",
              " 'spending': <gensim.models.keyedvectors.Vocab at 0x7fca61fe6c50>,\n",
              " 'spokesman': <gensim.models.keyedvectors.Vocab at 0x7fca61fd60b8>,\n",
              " 'sport': <gensim.models.keyedvectors.Vocab at 0x7fca6204fc18>,\n",
              " 'stand': <gensim.models.keyedvectors.Vocab at 0x7fca61fdf940>,\n",
              " 'standard': <gensim.models.keyedvectors.Vocab at 0x7fca61fe2240>,\n",
              " 'star': <gensim.models.keyedvectors.Vocab at 0x7fca61fdb358>,\n",
              " 'start': <gensim.models.keyedvectors.Vocab at 0x7fca61fd6d30>,\n",
              " 'state': <gensim.models.keyedvectors.Vocab at 0x7fca61fdfb70>,\n",
              " 'statement': <gensim.models.keyedvectors.Vocab at 0x7fca66b40668>,\n",
              " 'step': <gensim.models.keyedvectors.Vocab at 0x7fca61fdf908>,\n",
              " 'still': <gensim.models.keyedvectors.Vocab at 0x7fca61fd6da0>,\n",
              " 'stock': <gensim.models.keyedvectors.Vocab at 0x7fca61feabe0>,\n",
              " 'stop': <gensim.models.keyedvectors.Vocab at 0x7fca61fdbcc0>,\n",
              " 'street': <gensim.models.keyedvectors.Vocab at 0x7fca61fea080>,\n",
              " 'strong': <gensim.models.keyedvectors.Vocab at 0x7fca6204fef0>,\n",
              " 'success': <gensim.models.keyedvectors.Vocab at 0x7fca61fdf5c0>,\n",
              " 'suggest': <gensim.models.keyedvectors.Vocab at 0x7fca61fd6400>,\n",
              " 'sunday': <gensim.models.keyedvectors.Vocab at 0x7fca61fdb160>,\n",
              " 'support': <gensim.models.keyedvectors.Vocab at 0x7fca6204feb8>,\n",
              " 'survey': <gensim.models.keyedvectors.Vocab at 0x7fca61fea358>,\n",
              " 'system': <gensim.models.keyedvectors.Vocab at 0x7fca61fe62b0>,\n",
              " 'take': <gensim.models.keyedvectors.Vocab at 0x7fca6204fe10>,\n",
              " 'talk': <gensim.models.keyedvectors.Vocab at 0x7fca61fdf2e8>,\n",
              " 'target': <gensim.models.keyedvectors.Vocab at 0x7fca61fe6048>,\n",
              " 'tax': <gensim.models.keyedvectors.Vocab at 0x7fca61fe6ef0>,\n",
              " 'team': <gensim.models.keyedvectors.Vocab at 0x7fca61fd8c18>,\n",
              " 'technology': <gensim.models.keyedvectors.Vocab at 0x7fca61fe6780>,\n",
              " 'tell': <gensim.models.keyedvectors.Vocab at 0x7fca61fd8588>,\n",
              " 'term': <gensim.models.keyedvectors.Vocab at 0x7fca61fd6240>,\n",
              " 'test': <gensim.models.keyedvectors.Vocab at 0x7fca66b40390>,\n",
              " 'th': <gensim.models.keyedvectors.Vocab at 0x7fca61fdf7f0>,\n",
              " 'that': <gensim.models.keyedvectors.Vocab at 0x7fca61fdf320>,\n",
              " 'thing': <gensim.models.keyedvectors.Vocab at 0x7fca61fd80f0>,\n",
              " 'think': <gensim.models.keyedvectors.Vocab at 0x7fca61fd6940>,\n",
              " 'third': <gensim.models.keyedvectors.Vocab at 0x7fca61fdba58>,\n",
              " 'though': <gensim.models.keyedvectors.Vocab at 0x7fca61fdf438>,\n",
              " 'three': <gensim.models.keyedvectors.Vocab at 0x7fca61fd6a90>,\n",
              " 'time': <gensim.models.keyedvectors.Vocab at 0x7fca61fd6828>,\n",
              " 'title': <gensim.models.keyedvectors.Vocab at 0x7fca61fd8e48>,\n",
              " 'today': <gensim.models.keyedvectors.Vocab at 0x7fca61fd8ef0>,\n",
              " 'tony': <gensim.models.keyedvectors.Vocab at 0x7fca61fe6940>,\n",
              " 'top': <gensim.models.keyedvectors.Vocab at 0x7fca61fd6a58>,\n",
              " 'tory': <gensim.models.keyedvectors.Vocab at 0x7fca61fe6e10>,\n",
              " 'total': <gensim.models.keyedvectors.Vocab at 0x7fca61fd8940>,\n",
              " 'trade': <gensim.models.keyedvectors.Vocab at 0x7fca61fe6240>,\n",
              " 'trial': <gensim.models.keyedvectors.Vocab at 0x7fca61fe22e8>,\n",
              " 'try': <gensim.models.keyedvectors.Vocab at 0x7fca61fd6f60>,\n",
              " 'tuesday': <gensim.models.keyedvectors.Vocab at 0x7fca61fe2be0>,\n",
              " 'turn': <gensim.models.keyedvectors.Vocab at 0x7fca61fdbc50>,\n",
              " 'tv': <gensim.models.keyedvectors.Vocab at 0x7fca61fe6588>,\n",
              " 'two': <gensim.models.keyedvectors.Vocab at 0x7fca61fd89b0>,\n",
              " 'uk': <gensim.models.keyedvectors.Vocab at 0x7fca61fd61d0>,\n",
              " 'union': <gensim.models.keyedvectors.Vocab at 0x7fca61fe2470>,\n",
              " 'united': <gensim.models.keyedvectors.Vocab at 0x7fca61fd8518>,\n",
              " 'use': <gensim.models.keyedvectors.Vocab at 0x7fca61fdbdd8>,\n",
              " 'user': <gensim.models.keyedvectors.Vocab at 0x7fca61fea9b0>,\n",
              " 'version': <gensim.models.keyedvectors.Vocab at 0x7fca61fea898>,\n",
              " 'victory': <gensim.models.keyedvectors.Vocab at 0x7fca61fd80b8>,\n",
              " 'video': <gensim.models.keyedvectors.Vocab at 0x7fca61fe2c18>,\n",
              " 'view': <gensim.models.keyedvectors.Vocab at 0x7fca61fd6eb8>,\n",
              " 'virus': <gensim.models.keyedvectors.Vocab at 0x7fca61fe2358>,\n",
              " 'vote': <gensim.models.keyedvectors.Vocab at 0x7fca61fe2390>,\n",
              " 'wale': <gensim.models.keyedvectors.Vocab at 0x7fca61fdb898>,\n",
              " 'want': <gensim.models.keyedvectors.Vocab at 0x7fca66b40828>,\n",
              " 'war': <gensim.models.keyedvectors.Vocab at 0x7fca61fe6eb8>,\n",
              " 'warn': <gensim.models.keyedvectors.Vocab at 0x7fca61fe2fd0>,\n",
              " 'watch': <gensim.models.keyedvectors.Vocab at 0x7fca61fdfba8>,\n",
              " 'way': <gensim.models.keyedvectors.Vocab at 0x7fca61fd8748>,\n",
              " 'web': <gensim.models.keyedvectors.Vocab at 0x7fca61feaba8>,\n",
              " 'website': <gensim.models.keyedvectors.Vocab at 0x7fca61fd85f8>,\n",
              " 'wednesday': <gensim.models.keyedvectors.Vocab at 0x7fca61fdbe80>,\n",
              " 'week': <gensim.models.keyedvectors.Vocab at 0x7fca61fd8f60>,\n",
              " 'well': <gensim.models.keyedvectors.Vocab at 0x7fca6204fe48>,\n",
              " 'whether': <gensim.models.keyedvectors.Vocab at 0x7fca61fd8cf8>,\n",
              " 'william': <gensim.models.keyedvectors.Vocab at 0x7fca61fe2588>,\n",
              " 'win': <gensim.models.keyedvectors.Vocab at 0x7fca61fd6cf8>,\n",
              " 'winner': <gensim.models.keyedvectors.Vocab at 0x7fca61fdf4a8>,\n",
              " 'within': <gensim.models.keyedvectors.Vocab at 0x7fca61fe2748>,\n",
              " 'without': <gensim.models.keyedvectors.Vocab at 0x7fca61fd66d8>,\n",
              " 'woman': <gensim.models.keyedvectors.Vocab at 0x7fca61fe62e8>,\n",
              " 'work': <gensim.models.keyedvectors.Vocab at 0x7fca61fd6978>,\n",
              " 'world': <gensim.models.keyedvectors.Vocab at 0x7fca6204ff98>,\n",
              " 'would': <gensim.models.keyedvectors.Vocab at 0x7fca61fd6748>,\n",
              " 'write': <gensim.models.keyedvectors.Vocab at 0x7fca66b40320>,\n",
              " 'year': <gensim.models.keyedvectors.Vocab at 0x7fca61fd8390>,\n",
              " 'yearold': <gensim.models.keyedvectors.Vocab at 0x7fca66b400b8>,\n",
              " 'yet': <gensim.models.keyedvectors.Vocab at 0x7fca61fd64a8>,\n",
              " 'young': <gensim.models.keyedvectors.Vocab at 0x7fca61fdf470>}"
            ]
          },
          "metadata": {
            "tags": []
          },
          "execution_count": 35
        }
      ]
    },
    {
      "cell_type": "code",
      "metadata": {
        "id": "6aq6JtwBGcF1",
        "colab_type": "code",
        "outputId": "7723e94e-f4c4-4693-d4dd-016f4726253c",
        "colab": {
          "base_uri": "https://localhost:8080/",
          "height": 714
        }
      },
      "source": [
        "tsne_plot(w2v_model, 'president')"
      ],
      "execution_count": 0,
      "outputs": [
        {
          "output_type": "stream",
          "text": [
            "/usr/local/lib/python3.6/dist-packages/ipykernel_launcher.py:5: DeprecationWarning: Call to deprecated `__getitem__` (Method will be removed in 4.0.0, use self.wv.__getitem__() instead).\n",
            "  \"\"\"\n",
            "/usr/local/lib/python3.6/dist-packages/gensim/matutils.py:737: FutureWarning: Conversion of the second argument of issubdtype from `int` to `np.signedinteger` is deprecated. In future, it will be treated as `np.int64 == np.dtype(int).type`.\n",
            "  if np.issubdtype(vec.dtype, np.int):\n",
            "/usr/local/lib/python3.6/dist-packages/ipykernel_launcher.py:9: DeprecationWarning: Call to deprecated `__getitem__` (Method will be removed in 4.0.0, use self.wv.__getitem__() instead).\n",
            "  if __name__ == '__main__':\n"
          ],
          "name": "stderr"
        },
        {
          "output_type": "display_data",
          "data": {
            "image/png": "[encoded data removed]",
            "text/plain": [
              "<Figure size 720x720 with 1 Axes>"
            ]
          },
          "metadata": {
            "tags": []
          }
        }
      ]
    },
    {
      "cell_type": "code",
      "metadata": {
        "id": "UJlvwP_KGeVF",
        "colab_type": "code",
        "outputId": "9edbcda2-166c-4f0a-b56c-ebd3bdf59df2",
        "colab": {
          "base_uri": "https://localhost:8080/",
          "height": 714
        }
      },
      "source": [
        "tsne_plot(w2v_model, 'price')"
      ],
      "execution_count": 0,
      "outputs": [
        {
          "output_type": "stream",
          "text": [
            "/usr/local/lib/python3.6/dist-packages/ipykernel_launcher.py:5: DeprecationWarning: Call to deprecated `__getitem__` (Method will be removed in 4.0.0, use self.wv.__getitem__() instead).\n",
            "  \"\"\"\n",
            "/usr/local/lib/python3.6/dist-packages/gensim/matutils.py:737: FutureWarning: Conversion of the second argument of issubdtype from `int` to `np.signedinteger` is deprecated. In future, it will be treated as `np.int64 == np.dtype(int).type`.\n",
            "  if np.issubdtype(vec.dtype, np.int):\n",
            "/usr/local/lib/python3.6/dist-packages/ipykernel_launcher.py:9: DeprecationWarning: Call to deprecated `__getitem__` (Method will be removed in 4.0.0, use self.wv.__getitem__() instead).\n",
            "  if __name__ == '__main__':\n"
          ],
          "name": "stderr"
        },
        {
          "output_type": "display_data",
          "data": {
            "image/png": "[encoded data removed]",
            "text/plain": [
              "<Figure size 720x720 with 1 Axes>"
            ]
          },
          "metadata": {
            "tags": []
          }
        }
      ]
    },
    {
      "cell_type": "code",
      "metadata": {
        "id": "wd4KJ-zoGgZa",
        "colab_type": "code",
        "outputId": "a73b25bd-2ad3-42c9-ea54-fb3a7fac7a49",
        "colab": {
          "base_uri": "https://localhost:8080/",
          "height": 714
        }
      },
      "source": [
        "tsne_plot(w2v_model, 'growth')"
      ],
      "execution_count": 0,
      "outputs": [
        {
          "output_type": "stream",
          "text": [
            "/usr/local/lib/python3.6/dist-packages/ipykernel_launcher.py:5: DeprecationWarning: Call to deprecated `__getitem__` (Method will be removed in 4.0.0, use self.wv.__getitem__() instead).\n",
            "  \"\"\"\n",
            "/usr/local/lib/python3.6/dist-packages/gensim/matutils.py:737: FutureWarning: Conversion of the second argument of issubdtype from `int` to `np.signedinteger` is deprecated. In future, it will be treated as `np.int64 == np.dtype(int).type`.\n",
            "  if np.issubdtype(vec.dtype, np.int):\n",
            "/usr/local/lib/python3.6/dist-packages/ipykernel_launcher.py:9: DeprecationWarning: Call to deprecated `__getitem__` (Method will be removed in 4.0.0, use self.wv.__getitem__() instead).\n",
            "  if __name__ == '__main__':\n"
          ],
          "name": "stderr"
        },
        {
          "output_type": "display_data",
          "data": {
            "image/png": "[encoded data removed]",
            "text/plain": [
              "<Figure size 720x720 with 1 Axes>"
            ]
          },
          "metadata": {
            "tags": []
          }
        }
      ]
    }
  ]
}