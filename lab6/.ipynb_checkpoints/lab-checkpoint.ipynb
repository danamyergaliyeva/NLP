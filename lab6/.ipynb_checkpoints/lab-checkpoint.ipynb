{
 "cells": [
  {
   "cell_type": "code",
   "execution_count": 4,
   "metadata": {},
   "outputs": [],
   "source": [
    "import json\n",
    "#oppening given dataset from dataset_43428_1.txt as json file and assigning it as json file\n",
    "with open('dataset_43428_1.txt', encoding=\"utf-8\") as json_file:\n",
    "    dataFrame = json.load(json_file)"
   ]
  },
  {
   "cell_type": "code",
   "execution_count": 10,
   "metadata": {},
   "outputs": [
    {
     "ename": "NameError",
     "evalue": "name 'dataFrame' is not defined",
     "output_type": "error",
     "traceback": [
      "\u001b[0;31m---------------------------------------------------------------------------\u001b[0m",
      "\u001b[0;31mNameError\u001b[0m                                 Traceback (most recent call last)",
      "\u001b[0;32m<ipython-input-10-d90b3ea78978>\u001b[0m in \u001b[0;36m<module>\u001b[0;34m\u001b[0m\n\u001b[0;32m----> 1\u001b[0;31m \u001b[0mdataFrame\u001b[0m\u001b[0;34m\u001b[0m\u001b[0;34m\u001b[0m\u001b[0m\n\u001b[0m",
      "\u001b[0;31mNameError\u001b[0m: name 'dataFrame' is not defined"
     ]
    }
   ],
   "source": [
    "dataFrame"
   ]
  },
  {
   "cell_type": "code",
   "execution_count": 8,
   "metadata": {},
   "outputs": [],
   "source": [
    "from itertools import combinations\n",
    "from nltk.tokenize import sent_tokenize, RegexpTokenizer\n",
    "from nltk.stem.snowball import RussianStemmer\n",
    "import networkx as nx\n",
    "\n",
    "def similarity(s1, s2):\n",
    "    if not len(s1) or not len(s2):\n",
    "        return 0.0\n",
    "    return len(s1.intersection(s2))/(1.0 * (len(s1) + len(s2)))\n",
    "\n",
    "def textrank(text):\n",
    "    sentences = sent_tokenize(text)\n",
    "    tokenizer = RegexpTokenizer(r'\\w+')\n",
    "    lmtzr = RussianStemmer()\n",
    "    words = [set(lmtzr.stem(word) for word in tokenizer.tokenize(sentence.lower()))\n",
    "             for sentence in sentences]\n",
    "\n",
    "    pairs = combinations(range(len(sentences)), 2)\n",
    "    scores = [(i, j, similarity(words[i], words[j])) for i, j in pairs]\n",
    "    scores = filter(lambda x: x[2], scores)\n",
    "\n",
    "    g = nx.Graph()\n",
    "    g.add_weighted_edges_from(scores)\n",
    "    pr = nx.pagerank(g)\n",
    "\n",
    "    return sorted(((i, pr[i], s) for i, s in enumerate(sentences) if i in pr),\n",
    "                  key=lambda x: pr[x[0]], reverse=True)\n",
    "\n",
    "def extract(text, n=3):\n",
    "    tr = textrank(text)\n",
    "    top_n = sorted(tr[:n])\n",
    "    return ' '.join(x[2] for x in top_n)"
   ]
  },
  {
   "cell_type": "code",
   "execution_count": null,
   "metadata": {},
   "outputs": [],
   "source": [
    "# Algorithm in the previous cell is TextRank implementation, it does next:\n",
    "# 1) Gets every text block from our dataset and splits it on sentences using nltk.sent_tokenize\n",
    "# 2) RegexpTokenizer(r'\\w+') cleans tokenized sentences from all non-word characters\n",
    "# 3) RussianStemmer extracts words from sentences without suffixes to make every word in different shapes equal to algorithm\n",
    "# 4) Scores words similiarty by simply counting stemmed word frequency for the whole text\n",
    "# 5) Creates graph of sentences in text block and returns result of sorted page rank"
   ]
  },
  {
   "cell_type": "code",
   "execution_count": null,
   "metadata": {},
   "outputs": [],
   "source": [
    "summarized_text = [extract(text) for text in df]"
   ]
  }
 ],
 "metadata": {
  "kernelspec": {
   "display_name": "Python 3",
   "language": "python",
   "name": "python3"
  },
  "language_info": {
   "codemirror_mode": {
    "name": "ipython",
    "version": 3
   },
   "file_extension": ".py",
   "mimetype": "text/x-python",
   "name": "python",
   "nbconvert_exporter": "python",
   "pygments_lexer": "ipython3",
   "version": "3.7.4"
  }
 },
 "nbformat": 4,
 "nbformat_minor": 2
}
